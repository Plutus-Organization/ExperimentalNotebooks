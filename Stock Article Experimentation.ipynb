{
 "cells": [
  {
   "cell_type": "markdown",
   "metadata": {},
   "source": [
    "# Stock Article Experimentation"
   ]
  },
  {
   "cell_type": "code",
   "execution_count": 43,
   "metadata": {
    "collapsed": true
   },
   "outputs": [],
   "source": [
    "import webhoseio\n",
    "import urllib.request\n",
    "import json"
   ]
  },
  {
   "cell_type": "code",
   "execution_count": 5,
   "metadata": {},
   "outputs": [],
   "source": [
    "webhoseio.config(token='03a6bf5c-f50a-46a6-9b57-6938f71ae27d')"
   ]
  },
  {
   "cell_type": "code",
   "execution_count": 34,
   "metadata": {},
   "outputs": [],
   "source": [
    "filters = {'language': 'english', 'text': 'costco', 'site_type': 'news',\n",
    "           'site_category': 'finance', 'thread.title': 'costco'}\n",
    "output = webhoseio.query('filterWebContent', filters)\n",
    "posts = output['posts']"
   ]
  },
  {
   "cell_type": "code",
   "execution_count": 36,
   "metadata": {},
   "outputs": [
    {
     "data": {
      "text/plain": [
       "{'author': 'ABMN Staff',\n",
       " 'crawled': '2017-07-13T17:09:41.000+03:00',\n",
       " 'entities': {'locations': [{'name': 'canada', 'sentiment': 'none'},\n",
       "   {'name': 'puerto rico', 'sentiment': 'none'},\n",
       "   {'name': 'united states', 'sentiment': 'none'},\n",
       "   {'name': 'japan', 'sentiment': 'none'},\n",
       "   {'name': 'taiwan', 'sentiment': 'none'},\n",
       "   {'name': 'united kingdom', 'sentiment': 'none'},\n",
       "   {'name': 'mexico', 'sentiment': 'none'},\n",
       "   {'name': 'australia', 'sentiment': 'none'},\n",
       "   {'name': 'spain', 'sentiment': 'none'},\n",
       "   {'name': 'korea', 'sentiment': 'none'}],\n",
       "  'organizations': [{'name': 'costco wholesale corporation',\n",
       "    'sentiment': 'none'},\n",
       "   {'name': 'bidaskclub', 'sentiment': 'none'},\n",
       "   {'name': 'zacks investment research', 'sentiment': 'none'},\n",
       "   {'name': 'fmr llc', 'sentiment': 'none'},\n",
       "   {'name': 'state street corp', 'sentiment': 'none'},\n",
       "   {'name': 'vp james p. murphy', 'sentiment': 'none'},\n",
       "   {'name': 'american banking news', 'sentiment': 'none'},\n",
       "   {'name': 'sec', 'sentiment': 'none'},\n",
       "   {'name': 'zacks.com   costco wholesale corporation   costco wholesale corporation',\n",
       "    'sentiment': 'none'},\n",
       "   {'name': 'bank of new york mellon corp', 'sentiment': 'none'},\n",
       "   {'name': 'janus capital management llc', 'sentiment': 'none'},\n",
       "   {'name': 'ameriprise financial inc.', 'sentiment': 'none'},\n",
       "   {'name': 'costco wholesale corporation  costco wholesale corporation',\n",
       "    'sentiment': 'none'},\n",
       "   {'name': 'barclays plc', 'sentiment': 'none'}],\n",
       "  'persons': [{'name': 'cowen', 'sentiment': 'none'},\n",
       "   {'name': 'john w. meisenbach', 'sentiment': 'none'},\n",
       "   {'name': 'vetr', 'sentiment': 'none'},\n",
       "   {'name': 'robert w. baird', 'sentiment': 'none'}]},\n",
       " 'external_links': [],\n",
       " 'highlightText': '',\n",
       " 'highlightTitle': '',\n",
       " 'language': 'english',\n",
       " 'ord_in_thread': 0,\n",
       " 'published': '2017-07-13T17:00:00.000+03:00',\n",
       " 'rating': None,\n",
       " 'text': 'Tweet \\nBrokerages expect Costco Wholesale Corporation (NASDAQ:COST) to post $1.99 earnings per share (EPS) for the current quarter, according to Zacks Investment Research . Seven analysts have provided estimates for Costco Wholesale Corporation’s earnings. The lowest EPS estimate is $1.91 and the highest is $2.04. Costco Wholesale Corporation reported earnings of $1.77 per share in the same quarter last year, which would suggest a positive year over year growth rate of 12.4%. The business is scheduled to announce its next earnings results after the market closes on Thursday, October 5th. \\nOn average, analysts expect that Costco Wholesale Corporation will report full-year earnings of $5.73 per share for the current fiscal year, with EPS estimates ranging from $5.65 to $5.78. For the next fiscal year, analysts expect that the company will report earnings of $6.43 per share, with EPS estimates ranging from $6.27 to $6.65. Zacks’ earnings per share averages are an average based on a survey of research analysts that that provide coverage for Costco Wholesale Corporation. Get Costco Wholesale Corporation alerts: \\nCostco Wholesale Corporation (NASDAQ:COST) last announced its earnings results on Thursday, May 25th. The retailer reported $1.40 earnings per share (EPS) for the quarter, topping analysts’ consensus estimates of $1.31 by $0.09. The business had revenue of $28.86 billion during the quarter, compared to analysts’ expectations of $28.57 billion. Costco Wholesale Corporation had a net margin of 2.06% and a return on equity of 20.45%. The firm’s revenue for the quarter was up 7.8% on a year-over-year basis. During the same quarter last year, the company posted $1.24 EPS. \\nA number of equities analysts have issued reports on the company. Cowen and Company restated an “outperform” rating on shares of Costco Wholesale Corporation in a report on Thursday, March 30th. Vetr lowered Costco Wholesale Corporation from a “buy” rating to a “sell” rating and set a $158.38 target price on the stock. in a research report on Monday, June 19th. Robert W. Baird reaffirmed an “outperform” rating and set a $200.00 target price on shares of Costco Wholesale Corporation in a research report on Tuesday, May 30th. Barclays PLC reaffirmed an “overweight” rating and set a $190.00 target price (up from $185.00) on shares of Costco Wholesale Corporation in a research report on Sunday, May 28th. Finally, BidaskClub lowered Costco Wholesale Corporation from a “strong-buy” rating to a “buy” rating in a research report on Tuesday, June 20th. Two research analysts have rated the stock with a sell rating, nine have assigned a hold rating and twenty-one have assigned a buy rating to the company’s stock. The stock currently has a consensus rating of “Buy” and a consensus price target of $179.59. \\nIn other news, VP James P. Murphy sold 5,000 shares of the stock in a transaction on Wednesday, June 7th. The shares were sold at an average price of $181.30, for a total value of $906,500.00. Following the completion of the transaction, the vice president now owns 48,845 shares in the company, valued at approximately $8,855,598.50. The sale was disclosed in a filing with the SEC, which is available at this link . Also, Director John W. Meisenbach sold 1,000 shares of the stock in a transaction on Monday, July 3rd. The shares were sold at an average price of $160.28, for a total transaction of $160,280.00. Following the completion of the transaction, the director now owns 5,974 shares of the company’s stock, valued at approximately $957,512.72. The disclosure for this sale can be found here . In the last quarter, insiders sold 14,000 shares of company stock worth $2,518,180. Company insiders own 0.74% of the company’s stock. \\nA number of large investors have recently modified their holdings of COST. State Street Corp raised its position in Costco Wholesale Corporation by 1.3% in the first quarter. State Street Corp now owns 18,131,561 shares of the retailer’s stock valued at $3,040,476,000 after buying an additional 239,479 shares during the last quarter. FMR LLC increased its stake in shares of Costco Wholesale Corporation by 1.5% in the first quarter. FMR LLC now owns 12,099,104 shares of the retailer’s stock valued at $2,028,898,000 after buying an additional 177,200 shares during the period. Bank of New York Mellon Corp increased its stake in shares of Costco Wholesale Corporation by 1.3% in the first quarter. Bank of New York Mellon Corp now owns 6,254,387 shares of the retailer’s stock valued at $1,048,798,000 after buying an additional 79,201 shares during the period. Ameriprise Financial Inc. increased its stake in shares of Costco Wholesale Corporation by 62.0% in the first quarter. Ameriprise Financial Inc. now owns 4,583,281 shares of the retailer’s stock valued at $768,568,000 after buying an additional 1,753,741 shares during the period. Finally, Janus Capital Management LLC increased its stake in shares of Costco Wholesale Corporation by 8.6% in the first quarter. Janus Capital Management LLC now owns 4,582,908 shares of the retailer’s stock valued at $768,494,000 after buying an additional 361,581 shares during the period. 73.85% of the stock is currently owned by hedge funds and other institutional investors. \\nWARNING: This article was published by American Banking News and is the property of of American Banking News. If you are accessing this article on another domain, it was illegally stolen and republished in violation of United States & international copyright legislation. The original version of this article can be read at https://www.americanbankingnews.com/2017/07/13/analysts-anticipate-costco-wholesale-corporation-cost-will-post-earnings-of-1-99-per-share.html. \\nShares of Costco Wholesale Corporation ( NASDAQ:COST ) opened at 151.75 on Thursday. Costco Wholesale Corporation has a 12 month low of $142.11 and a 12 month high of $183.18. The company’s 50 day moving average is $172.28 and its 200-day moving average is $169.16. The firm has a market cap of $66.56 billion, a PE ratio of 26.35 and a beta of 0.94. \\nAbout Costco Wholesale Corporation \\nCostco Wholesale Corporation is engaged in the operation of membership warehouses in the United States and Puerto Rico, Canada, the United Kingdom, Mexico, Japan, Australia, Spain, and through its subsidiaries in Taiwan and Korea. As of August 28, 2016, the Company operated 715 warehouses across the world. \\nGet a free copy of the Zacks research report on Costco Wholesale Corporation (COST) \\nFor more information about research offerings from Zacks Investment Research, visit Zacks.com   Costco Wholesale Corporation   Costco Wholesale Corporation  ',\n",
       " 'thread': {'country': 'US',\n",
       "  'domain_rank': None,\n",
       "  'main_image': 'https://www.americanbankingnews.com/logos/costco-logo.jpg',\n",
       "  'participants_count': 1,\n",
       "  'performance_score': 0,\n",
       "  'published': '2017-07-13T17:00:00.000+03:00',\n",
       "  'replies_count': 0,\n",
       "  'section_title': 'American Banking News',\n",
       "  'site': 'americanbankingnews.com',\n",
       "  'site_categories': [],\n",
       "  'site_full': 'www.americanbankingnews.com',\n",
       "  'site_section': 'http://feeds2.feedburner.com/AmericanBankingNews',\n",
       "  'site_type': 'news',\n",
       "  'social': {'facebook': {'comments': 0, 'likes': 0, 'shares': 0},\n",
       "   'gplus': {'shares': 0},\n",
       "   'linkedin': {'shares': 0},\n",
       "   'pinterest': {'shares': 0},\n",
       "   'stumbledupon': {'shares': 0},\n",
       "   'vk': {'shares': 0}},\n",
       "  'spam_score': 0.0,\n",
       "  'title': 'Analysts Anticipate Costco Wholesale Corporation (COST) Will Post Earnings of $1.99 Per Share',\n",
       "  'title_full': 'Analysts Anticipate Costco Wholesale Corporation (COST) Will Post Earnings of $1.99 Per Share',\n",
       "  'url': 'http://omgili.com/ri/.wHSUbtEfZQ5vy3q3jf4pUXuk7XA7dCZsK1oT_oIDkd6Ay60oCLGDh6ndArT8dNsxU0duriha4FaRrV1em95KTEuS1UK2YfxmCSkpRnwY_kCyR8BwfGb2bSsFaIlZ7VW968g1o.0L5QhyZknrnY5U1v5JCFJTlsARarkf0UiD_cU.mvR07aperw5ikQJS5Vt',\n",
       "  'uuid': '0bb0bc9dd3bcb8fdbdb03b83f11597b276475da3'},\n",
       " 'title': 'Analysts Anticipate Costco Wholesale Corporation (COST) Will Post Earnings of $1.99 Per Share',\n",
       " 'url': 'http://omgili.com/ri/.wHSUbtEfZQ5vy3q3jf4pUXuk7XA7dCZsK1oT_oIDkd6Ay60oCLGDh6ndArT8dNsxU0duriha4FaRrV1em95KTEuS1UK2YfxmCSkpRnwY_kCyR8BwfGb2bSsFaIlZ7VW968g1o.0L5QhyZknrnY5U1v5JCFJTlsARarkf0UiD_cU.mvR07aperw5ikQJS5Vt',\n",
       " 'uuid': '0bb0bc9dd3bcb8fdbdb03b83f11597b276475da3'}"
      ]
     },
     "execution_count": 36,
     "metadata": {},
     "output_type": "execute_result"
    }
   ],
   "source": [
    "posts[0]"
   ]
  },
  {
   "cell_type": "code",
   "execution_count": 61,
   "metadata": {
    "collapsed": true
   },
   "outputs": [],
   "source": [
    "def summarize_article(article_url):\n",
    "    api_key = 'B6AA6865EE'\n",
    "    query_url = 'http://api.smmry.com/'\n",
    "    get_params = {'SM_API_KEY': api_key, 'SM_URL': article_url, 'SM_LENGTH': '2'}\n",
    "    query_url += construct_get_query(get_params)\n",
    "    content_json = urllib.request.urlopen(query_url).read().decode('utf-8')\n",
    "    print(content_json)\n",
    "    contents = json.load(content_json)\n",
    "    return contents['sm_api_title'], contents['sm_api_content']\n",
    "\n",
    "def construct_get_query(get_params):\n",
    "    get_param_url = '?'\n",
    "    for param_key in get_params:\n",
    "        get_param_url += param_key + '=' + get_params[param_key] + '&'\n",
    "    get_param_url = get_param_url[:-1]\n",
    "    return get_param_url\n",
    "    "
   ]
  },
  {
   "cell_type": "code",
   "execution_count": 62,
   "metadata": {},
   "outputs": [
    {
     "name": "stdout",
     "output_type": "stream",
     "text": [
      "{\"sm_api_character_count\":\"285\",\"sm_api_title\":\"Costco Wholesale Corporation Sees Significant Growth in Short Interest\",\"sm_api_content\":\" As of June 30th, there was short interest totalling 14,194,874 shares, a growth of 77.5% from the June 15th total of 7,996,466 shares. Meeder Asset Management Inc. increased its stake in shares of Costco Wholesale Corporation by 914.3% in the second quarter.\",\"sm_api_limitation\":\"Waited 0 extra seconds due to API Free mode, 91 requests left to make for today.\"}\n"
     ]
    },
    {
     "ename": "AttributeError",
     "evalue": "'str' object has no attribute 'read'",
     "output_type": "error",
     "traceback": [
      "\u001b[0;31m---------------------------------------------------------------------------\u001b[0m",
      "\u001b[0;31mAttributeError\u001b[0m                            Traceback (most recent call last)",
      "\u001b[0;32m<ipython-input-62-78ef76dd3351>\u001b[0m in \u001b[0;36m<module>\u001b[0;34m()\u001b[0m\n\u001b[0;32m----> 1\u001b[0;31m \u001b[0mtitle\u001b[0m\u001b[0;34m,\u001b[0m \u001b[0mcontent\u001b[0m \u001b[0;34m=\u001b[0m \u001b[0msummarize_article\u001b[0m\u001b[0;34m(\u001b[0m\u001b[0;34m'https://www.americanbankingnews.com/2017/07/14/costco-wholesale-corporation-cost-sees-significant-growth-in-short-interest.html'\u001b[0m\u001b[0;34m)\u001b[0m\u001b[0;34m\u001b[0m\u001b[0m\n\u001b[0m\u001b[1;32m      2\u001b[0m \u001b[0mprint\u001b[0m\u001b[0;34m(\u001b[0m\u001b[0;34m'title'\u001b[0m\u001b[0;34m,\u001b[0m \u001b[0mtitle\u001b[0m\u001b[0;34m)\u001b[0m\u001b[0;34m\u001b[0m\u001b[0m\n\u001b[1;32m      3\u001b[0m \u001b[0mprint\u001b[0m\u001b[0;34m(\u001b[0m\u001b[0;34m'content'\u001b[0m\u001b[0;34m,\u001b[0m \u001b[0mcontent\u001b[0m\u001b[0;34m)\u001b[0m\u001b[0;34m\u001b[0m\u001b[0m\n",
      "\u001b[0;32m<ipython-input-61-1bddbef5beb9>\u001b[0m in \u001b[0;36msummarize_article\u001b[0;34m(article_url)\u001b[0m\n\u001b[1;32m      6\u001b[0m     \u001b[0mcontent_json\u001b[0m \u001b[0;34m=\u001b[0m \u001b[0murllib\u001b[0m\u001b[0;34m.\u001b[0m\u001b[0mrequest\u001b[0m\u001b[0;34m.\u001b[0m\u001b[0murlopen\u001b[0m\u001b[0;34m(\u001b[0m\u001b[0mquery_url\u001b[0m\u001b[0;34m)\u001b[0m\u001b[0;34m.\u001b[0m\u001b[0mread\u001b[0m\u001b[0;34m(\u001b[0m\u001b[0;34m)\u001b[0m\u001b[0;34m.\u001b[0m\u001b[0mdecode\u001b[0m\u001b[0;34m(\u001b[0m\u001b[0;34m'utf-8'\u001b[0m\u001b[0;34m)\u001b[0m\u001b[0;34m\u001b[0m\u001b[0m\n\u001b[1;32m      7\u001b[0m     \u001b[0mprint\u001b[0m\u001b[0;34m(\u001b[0m\u001b[0mcontent_json\u001b[0m\u001b[0;34m)\u001b[0m\u001b[0;34m\u001b[0m\u001b[0m\n\u001b[0;32m----> 8\u001b[0;31m     \u001b[0mcontents\u001b[0m \u001b[0;34m=\u001b[0m \u001b[0mjson\u001b[0m\u001b[0;34m.\u001b[0m\u001b[0mload\u001b[0m\u001b[0;34m(\u001b[0m\u001b[0mcontent_json\u001b[0m\u001b[0;34m)\u001b[0m\u001b[0;34m\u001b[0m\u001b[0m\n\u001b[0m\u001b[1;32m      9\u001b[0m     \u001b[0;32mreturn\u001b[0m \u001b[0mcontents\u001b[0m\u001b[0;34m[\u001b[0m\u001b[0;34m'sm_api_title'\u001b[0m\u001b[0;34m]\u001b[0m\u001b[0;34m,\u001b[0m \u001b[0mcontents\u001b[0m\u001b[0;34m[\u001b[0m\u001b[0;34m'sm_api_content'\u001b[0m\u001b[0;34m]\u001b[0m\u001b[0;34m\u001b[0m\u001b[0m\n\u001b[1;32m     10\u001b[0m \u001b[0;34m\u001b[0m\u001b[0m\n",
      "\u001b[0;32m/export/apps/python/3.5/lib/python3.5/json/__init__.py\u001b[0m in \u001b[0;36mload\u001b[0;34m(fp, cls, object_hook, parse_float, parse_int, parse_constant, object_pairs_hook, **kw)\u001b[0m\n\u001b[1;32m    263\u001b[0m \u001b[0;34m\u001b[0m\u001b[0m\n\u001b[1;32m    264\u001b[0m     \"\"\"\n\u001b[0;32m--> 265\u001b[0;31m     return loads(fp.read(),\n\u001b[0m\u001b[1;32m    266\u001b[0m         \u001b[0mcls\u001b[0m\u001b[0;34m=\u001b[0m\u001b[0mcls\u001b[0m\u001b[0;34m,\u001b[0m \u001b[0mobject_hook\u001b[0m\u001b[0;34m=\u001b[0m\u001b[0mobject_hook\u001b[0m\u001b[0;34m,\u001b[0m\u001b[0;34m\u001b[0m\u001b[0m\n\u001b[1;32m    267\u001b[0m         \u001b[0mparse_float\u001b[0m\u001b[0;34m=\u001b[0m\u001b[0mparse_float\u001b[0m\u001b[0;34m,\u001b[0m \u001b[0mparse_int\u001b[0m\u001b[0;34m=\u001b[0m\u001b[0mparse_int\u001b[0m\u001b[0;34m,\u001b[0m\u001b[0;34m\u001b[0m\u001b[0m\n",
      "\u001b[0;31mAttributeError\u001b[0m: 'str' object has no attribute 'read'"
     ]
    }
   ],
   "source": [
    "title, content = summarize_article('https://www.americanbankingnews.com/2017/07/14/costco-wholesale-corporation-cost-sees-significant-growth-in-short-interest.html')\n",
    "print('title', title)\n",
    "print('content', content)"
   ]
  },
  {
   "cell_type": "code",
   "execution_count": null,
   "metadata": {
    "collapsed": true
   },
   "outputs": [],
   "source": []
  }
 ],
 "metadata": {
  "kernelspec": {
   "display_name": "Python 3",
   "language": "python",
   "name": "python3"
  },
  "language_info": {
   "codemirror_mode": {
    "name": "ipython",
    "version": 3
   },
   "file_extension": ".py",
   "mimetype": "text/x-python",
   "name": "python",
   "nbconvert_exporter": "python",
   "pygments_lexer": "ipython3",
   "version": "3.5.3"
  }
 },
 "nbformat": 4,
 "nbformat_minor": 2
}
